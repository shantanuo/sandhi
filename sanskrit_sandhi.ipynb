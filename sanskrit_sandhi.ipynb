{
 "cells": [
  {
   "cell_type": "code",
   "execution_count": 1,
   "id": "b7a4c771",
   "metadata": {},
   "outputs": [],
   "source": [
    "swar = ['अ', 'आ', 'इ', 'ई', 'उ', 'ऊ', 'ए', 'ऐ', 'ओ', 'औ', 'अं']"
   ]
  },
  {
   "cell_type": "code",
   "execution_count": 2,
   "id": "51192e39",
   "metadata": {},
   "outputs": [],
   "source": [
    "half = ['क्', 'ख्', 'ग्', 'घ्', 'ङ्',  'च्', 'छ्', 'ज्', 'झ्', 'ञ्', 'ट्', 'ठ्', 'ड्', 'ढ्', 'ण्', 'त्', 'थ्', 'द्', 'ध्', 'न्', 'प्', 'फ्', 'ब्', 'भ्', 'म्', 'य्', 'र्', 'ल्', 'व्', 'श्', 'ष्', 'स्', 'ह्']\n",
    "\n",
    "karkash = ['क', 'ख', 'च', 'छ', 'ट', 'ठ', 'त', 'थ', 'प', 'फ', 'श', 'ष', 'स']\n",
    "\n",
    "mrudu = ['ग', 'घ', 'ङ', 'ज', 'झ', 'ञ', 'ड', 'ढ', 'ण', 'द', 'ध', 'न', 'ब', 'भ', 'म', 'य', 'र', 'ल', 'व', 'ह']\n",
    "\n",
    "full = karkash + mrudu\n",
    "\n",
    "half_to_full = {'क्':'क', 'ख्':'ख', 'ग्':'ग', 'घ्':'घ', 'ङ्':'ङ',\n",
    "'च्':'च', 'छ्':'छ', 'ज्':'ज', 'झ्':'झ', 'ञ्':'ञ',\n",
    "'ट्':'ट', 'ठ्':'ठ', 'ड्':'ड', 'ढ्':'ढ', 'ण्':'ण',\n",
    "'त्':'त', 'थ्':'थ', 'द्':'द', 'ध्':'ध', 'न्':'न',\n",
    "'प्':'प', 'फ्':'फ', 'ब्':'ब', 'भ्':'भ', 'म्':'म',\n",
    "'य्':'य', 'र्':'र', 'ल्':'ल', 'व्':'व', 'श्':'श',\n",
    "'ष्':'ष', 'स्':'स', 'ह्':'ह'}"
   ]
  },
  {
   "cell_type": "code",
   "execution_count": 3,
   "id": "c979f740",
   "metadata": {},
   "outputs": [],
   "source": [
    "san = ['अ', 'आ']\n",
    "ikar = ['इ', 'ई']\n",
    "ukar = ['उ', 'ऊ']\n",
    "ekar = ['ए', 'ऐ']\n",
    "okar = ['ओ' , 'औ']\n",
    "swaradim = 'अं'\n",
    "swaradiah = 'अः'\n",
    "rkar = 'ऋ'\n",
    "rkara = 'ॠ'\n",
    "lkar = 'लृ'"
   ]
  },
  {
   "cell_type": "code",
   "execution_count": 4,
   "id": "29912240",
   "metadata": {},
   "outputs": [],
   "source": [
    "add = 'ा'\n",
    "first_e = 'ि'\n",
    "second_e = 'ी'\n",
    "first_u = 'ु'\n",
    "second_u = 'ू'\n",
    "adde = 'े'\n",
    "addee = 'ै'\n",
    "addo = 'ो'\n",
    "addoo = 'ौ'\n",
    "addm = 'ं'\n",
    "addh = 'ः'\n",
    "first_r = ' ृ'\n",
    "second_r = ' ॄ'\n",
    "halant = '्'\n",
    "avagraha = 'ऽ'"
   ]
  },
  {
   "cell_type": "code",
   "execution_count": 5,
   "id": "bf7f0cab",
   "metadata": {},
   "outputs": [],
   "source": [
    "swar_link = {'अ': '', 'आ': add, 'इ': first_e, 'ई': second_e, 'उ': first_u, 'ऊ': second_u, 'ए': adde, 'ऐ':addee, 'ओ': addo, 'औ': addoo, 'अं': addm}"
   ]
  },
  {
   "cell_type": "code",
   "execution_count": 6,
   "id": "110a916e",
   "metadata": {},
   "outputs": [],
   "source": [
    "panini_sutra = dict()\n",
    "sandhi_name = dict()"
   ]
  },
  {
   "cell_type": "code",
   "execution_count": 7,
   "id": "94789007",
   "metadata": {},
   "outputs": [],
   "source": [
    "! > sandhi_result_code.txt \n",
    "import sys\n",
    "sys.stdout = open('sandhi_result_code.txt', 'w')"
   ]
  },
  {
   "cell_type": "code",
   "execution_count": null,
   "id": "1c353cfd",
   "metadata": {},
   "outputs": [],
   "source": []
  },
  {
   "cell_type": "code",
   "execution_count": 8,
   "id": "8a427e36",
   "metadata": {},
   "outputs": [],
   "source": [
    "# 1 स्वर (अच् सन्धि)"
   ]
  },
  {
   "cell_type": "code",
   "execution_count": 9,
   "id": "9899377b",
   "metadata": {},
   "outputs": [],
   "source": [
    "#1.1 सवर्ण दीर्घ  "
   ]
  },
  {
   "cell_type": "code",
   "execution_count": 10,
   "id": "8c17fd8a",
   "metadata": {},
   "outputs": [],
   "source": [
    "panini_sutra['1.1.1'] = 'अक: सवर्णे दीर्घ:'\n",
    "sandhi_name['1.1.1'] = 'सवर्ण_दीर्घ'\n",
    "# \"अ या आ\" के बाद \"अ या आ\" आवे तो दोनों के स्थान पर 'आ' दीर्घ \n",
    "\n",
    "for i in full:\n",
    "    for x in san:\n",
    "        print (i, x, i+add, '1.1.1', sandhi_name['1.1.1'])\n",
    "        print (i+add, x, i+add, '1.1.1', sandhi_name['1.1.1'])\n",
    "        \n",
    "for i in half_to_full:\n",
    "    for x in san:\n",
    "        print (i, x, half_to_full[i]+add, '1.1.1', sandhi_name['1.1.1'])\n",
    "        print (i+add, x, half_to_full[i]+add, '1.1.1', sandhi_name['1.1.1'])"
   ]
  },
  {
   "cell_type": "code",
   "execution_count": 11,
   "id": "2af0b00a",
   "metadata": {},
   "outputs": [],
   "source": [
    "panini_sutra['1.1.2'] = 'अक: सवर्णे दीर्घ:'\n",
    "panini_sutra['1.1.3'] = 'अक: सवर्णे दीर्घ:'\n",
    "panini_sutra['1.1.4'] = 'अक: सवर्णे दीर्घ:'\n",
    "\n",
    "sandhi_name['1.1.2'] = 'सवर्ण_दीर्घ'\n",
    "sandhi_name['1.1.3'] = 'सवर्ण_दीर्घ'\n",
    "sandhi_name['1.1.4'] = 'सवर्ण_दीर्घ'\n",
    "\n",
    "#1.1.2\n",
    "print ('ि इ ी' , '1.1.2', sandhi_name['1.1.2'])\n",
    "print ('ी इ ी' , '1.1.2', sandhi_name['1.1.2'])\n",
    "print ('ि ई ी', '1.1.2', sandhi_name['1.1.2'])\n",
    "print ('ी ई ी', '1.1.2', sandhi_name['1.1.2'])\n",
    "\n",
    "#1.1.3\n",
    "print ('ु उ  ू', '1.1.3', sandhi_name['1.1.3'])\n",
    "print ('ु ऊ  ू', '1.1.3', sandhi_name['1.1.3'])\n",
    "print ('ू उ ू', '1.1.3', sandhi_name['1.1.3'])\n",
    "print ('ू ऊ ू', '1.1.3', sandhi_name['1.1.3'])\n",
    "\n",
    "#1.1.4\n",
    "print ('ृ ऋ ॄ', '1.1.4', sandhi_name['1.1.4'])"
   ]
  },
  {
   "cell_type": "code",
   "execution_count": 12,
   "id": "65abf64a",
   "metadata": {},
   "outputs": [],
   "source": [
    "sandhi_name['1.2.1'] = 'गुण'\n",
    "panini_sutra['1.2.1'] = 'आद्गुण:'\n",
    "# \"अ\" अथवा \"आ\" के बाद \"इ या ई\" आवे तो दोनों के स्थान पर 'ए' गुण हो जाता है\n",
    "    \n",
    "for i in full:\n",
    "    for x in ikar:\n",
    "        print (i, x, i+adde, '1.2.1' , sandhi_name['1.2.1'] )\n",
    "        print (i+add, x, i+adde, '1.2.1' , sandhi_name['1.2.1'] )"
   ]
  },
  {
   "cell_type": "code",
   "execution_count": 13,
   "id": "07213cdc",
   "metadata": {},
   "outputs": [],
   "source": [
    "sandhi_name['1.2.2'] = 'गुण'\n",
    "panini_sutra['1.2.2'] = 'आद्गुण:'\n",
    "# नियम: यदि \"अ\" अथवा \"आ\" के बाद \"उ या ऊ\" आवे तो दोनों के स्थान पर 'ओ' गुण हो जाता है\n",
    "    \n",
    "for i in full:\n",
    "    for x in ukar:\n",
    "        print (i, x, i+addo, '1.2.2', sandhi_name['1.2.2'] )\n",
    "        print (i+add, x, i+addo, '1.2.2', sandhi_name['1.2.2'] )"
   ]
  },
  {
   "cell_type": "code",
   "execution_count": 14,
   "id": "d96c2fe8",
   "metadata": {},
   "outputs": [],
   "source": [
    "sandhi_name['1.2.3'] = 'गुण'\n",
    "panini_sutra['1.2.3'] = 'आद्गुण:'\n",
    "\n",
    "# नियम: यदि \"अ\" अथवा \"आ\" के बाद \"ऋ\"आवे तो दोनों के स्थान पर 'अर्' गुण हो जाता है,\n",
    "for i in full:\n",
    "    print (i, rkar, i+'र्', '1.2.3', sandhi_name['1.2.3'] )\n",
    "    print (i+add, rkar, i+'र्', '1.2.3', sandhi_name['1.2.3'] ) "
   ]
  },
  {
   "cell_type": "code",
   "execution_count": 15,
   "id": "936891aa",
   "metadata": {},
   "outputs": [],
   "source": [
    "sandhi_name['1.2.4'] = 'गुण'\n",
    "panini_sutra['1.2.4'] = 'आद्गुण:'\n",
    "# नियम: यदि \"अ\" अथवा \"आ\" के बाद \"लृ\" आवे तो दोनों के स्थान पर \"अल्\" गुण हो जाता है,\n",
    "\n",
    "for i in full:\n",
    "    print (i, lkar, i+'ल्', '1.2.4', sandhi_name['1.2.4'] ) \n",
    "    print (i+add, lkar, i+add+'ल्', '1.2.4', sandhi_name['1.2.4'] ) "
   ]
  },
  {
   "cell_type": "code",
   "execution_count": 16,
   "id": "eaec1486",
   "metadata": {},
   "outputs": [],
   "source": [
    "sandhi_name['1.3.1'] = 'यण'\n",
    "panini_sutra['1.3.1'] = 'इकोऽयणचि'\n",
    "# इ या ई के बाद कोई असमान स्वर आवे तो इ तथा ई के स्थान पर 'य्' \n",
    "\n",
    "second_swar_ikar = {'अ':'य' , 'अं':'यं', 'आ':'या', 'उ':'यु', 'ऊ':'यू', 'ए':'ये', 'ऐ':'यै', 'ओ':'यो', 'औ':'यौ'}\n",
    "first_swar_ikar = [first_e , second_e]\n",
    "\n",
    "for x in first_swar_ikar:\n",
    "    for y in second_swar_ikar:\n",
    "        print (x, y, halant+second_swar_ikar[y], '1.3.1', sandhi_name['1.3.1'] ) "
   ]
  },
  {
   "cell_type": "code",
   "execution_count": 17,
   "id": "e98c9aab",
   "metadata": {},
   "outputs": [],
   "source": [
    "sandhi_name['1.3.2'] = 'यण'\n",
    "panini_sutra['1.3.2'] = 'इकोऽयणचि'\n",
    "# उ या ऊ के बाद कोई असमान शब्द आवे तो उ या ऊ के स्थान पर 'व' \n",
    "\n",
    "second_swar_ikar = {'अ':'व' , 'अं':'वं', 'आ': 'वा', 'इ': 'वि', 'ई': 'वी', 'ए':'वे', 'ऐ':'वै', 'ओ':'वो', 'औ':'वौ'}\n",
    "first_swar_ikar = [first_u , second_u]\n",
    "\n",
    "for x in first_swar_ikar:\n",
    "    for y in second_swar_ikar:\n",
    "        print (x, y, halant+second_swar_ikar[y], '1.3.2', sandhi_name['1.3.2'] ) "
   ]
  },
  {
   "cell_type": "code",
   "execution_count": 18,
   "id": "7cacc5f1",
   "metadata": {},
   "outputs": [],
   "source": [
    "sandhi_name['1.3.3'] = 'यण'\n",
    "panini_sutra['1.3.3'] = 'इकोऽयणचि'\n",
    "# ऋ के बाद कोई स्वर आवे तो ऋ के स्थान पर र \n",
    "\n",
    "second_swar_ikar = {'अ':'र' , 'अं':'रं', 'आ': 'रा', 'इ': 'रि', 'ई': 'री',  'उ':'रु', 'ऊ':'रू', 'ए':'रे', 'ऐ':'रै', 'ओ':'रो', 'औ':'रौ'}\n",
    "first_swar_ikar = [first_r, second_r]\n",
    "\n",
    "for x in first_swar_ikar:\n",
    "    for y in second_swar_ikar:\n",
    "        print (x, y, halant+second_swar_ikar[y], '1.3.3', sandhi_name['1.3.3'] ) "
   ]
  },
  {
   "cell_type": "code",
   "execution_count": 19,
   "id": "69220bb1",
   "metadata": {},
   "outputs": [],
   "source": [
    "sandhi_name['1.3.4'] = 'यण'\n",
    "panini_sutra['1.3.4'] = 'इकोऽयणचि'\n",
    "# लृ के बाद कोई स्वर आवे तो लृ के स्थान पर ल् \n",
    "\n",
    "second_swar_ikar = {'अ':'ल' , 'अं':'लं', 'आ': 'ला', 'इ': 'लि', 'ई': 'ली',  'उ':'लु', 'ऊ':'लू', 'ए':'ले', 'ऐ':'लै', 'ओ':'लो', 'औ':'लौ'}\n",
    "first_swar_ikar = [lkar]\n",
    "\n",
    "for x in first_swar_ikar:\n",
    "    for y in second_swar_ikar:\n",
    "        print (x, y, second_swar_ikar[y], '1.3.4', sandhi_name['1.3.4'] ) "
   ]
  },
  {
   "cell_type": "code",
   "execution_count": 20,
   "id": "09b82426",
   "metadata": {},
   "outputs": [],
   "source": [
    "sandhi_name['1.4.1'] = 'वृद्धि'\n",
    "panini_sutra['1.4.1'] = 'वृद्धिरेचि'\n",
    "# अ अथवा आ के बाद ए अथवा ऐ आवे तो दोनों के स्थान पर अ/आ + ए/ऐ = ऐ वृद्धि हो जाती है    \n",
    "    \n",
    "for i in full:\n",
    "    for x in ekar:\n",
    "        print (i, x, i+addee, '1.4.1', sandhi_name['1.4.1'] ) \n",
    "        print (i+add, x, i+addee, '1.4.1', sandhi_name['1.4.1'] ) "
   ]
  },
  {
   "cell_type": "code",
   "execution_count": 21,
   "id": "fdf1d741",
   "metadata": {},
   "outputs": [],
   "source": [
    "sandhi_name['1.4.2'] = 'वृद्धि'\n",
    "panini_sutra['1.4.2'] = 'वृद्धिरेचि'\n",
    "for i in full:\n",
    "    for x in okar:\n",
    "        print (i, x, i+addoo, '1.4.2', sandhi_name['1.4.2'] ) \n",
    "        print (i+add, x, i+addoo , '1.4.2', sandhi_name['1.4.2'] ) "
   ]
  },
  {
   "cell_type": "code",
   "execution_count": 22,
   "id": "5d086e46",
   "metadata": {},
   "outputs": [],
   "source": [
    "sandhi_name['1.4.3'] = 'वृद्धि'\n",
    "panini_sutra['1.4.3'] = 'वृद्धिरेचि'\n",
    "# अ अथवा आ का मेल ऋ से हो जावे तो अ/आ+ ऋ = आर् \n",
    "    \n",
    "for i in full:\n",
    "    print (i, rkar, i+add+'र्', '1.4.3', sandhi_name['1.4.3'] ) \n",
    "    print (i+add, rkar, i+add+'र्', '1.4.3', sandhi_name['1.4.3'] ) "
   ]
  },
  {
   "cell_type": "code",
   "execution_count": 23,
   "id": "20bd0e01",
   "metadata": {},
   "outputs": [],
   "source": [
    "sandhi_name['1.5.1'] = 'अयादि'\n",
    "panini_sutra['1.5.1'] = 'एचोऽयवायाव:'\n",
    "# ए, ऐ, औ के बाद कोई भी स्वर आये तो उसके स्थान पर क्रमशः अय्, आय्, अव्, आव् ह\n",
    "\n",
    "first = {'े': 'य', 'ै': 'ाय', 'ो': 'व', 'ौ': 'ाव'}\n",
    "\n",
    "for f in full:\n",
    "    for i in first:\n",
    "        for x in swar_link:\n",
    "                print (f+i, x, f+first[i]+swar_link[x], '1.5.1', sandhi_name['1.5.1'] )"
   ]
  },
  {
   "cell_type": "code",
   "execution_count": 24,
   "id": "b7523154",
   "metadata": {},
   "outputs": [],
   "source": [
    "sandhi_name['1.6.1'] = 'पूर्वरूप'\n",
    "panini_sutra['1.6.1'] = 'एङः पदान्तादति'\n",
    "# पदान्ते स्थितस्य एकारस्य ओकारस्य वा ह्रस्वे अकारे परे द्वयोः वर्णयोः स्थाने पूर्वरूप्ः आदेशः भवति\n",
    "\n",
    "print ('े', 'अ', 'े'+avagraha, '1.6.1', sandhi_name['1.6.1'] )\n",
    "print ('ो', 'अ', 'ो'+avagraha, '1.6.1', sandhi_name['1.6.1'] )"
   ]
  },
  {
   "cell_type": "code",
   "execution_count": 25,
   "id": "a9174cc1",
   "metadata": {},
   "outputs": [],
   "source": [
    "sandhi_name['1.7.1'] = 'षत्व'\n",
    "panini_sutra['1.7.1'] = 'इण्कोः आदेशप्रत्ययोः'\n",
    "\n",
    "# स् से पहले 'अ,आ' से भिन्न कोई स्वर आ जाए तो स् - ष\n",
    "\n",
    "for k, v in swar_link.items():\n",
    "    if k not in ['अ' , 'आ']:\n",
    "        print (v, 'स',  v+'ष' , '1.7.1', sandhi_name['1.7.1'])"
   ]
  },
  {
   "cell_type": "code",
   "execution_count": 26,
   "id": "33a37420",
   "metadata": {},
   "outputs": [],
   "source": [
    "sandhi_name['1.7.2'] = 'षत्व'\n",
    "panini_sutra['1.7.2'] = 'इण्कोः आदेशप्रत्ययोः'\n",
    "\n",
    "others = ['य्', 'र्', 'ल्', 'व्', 'ह्', 'क्', 'ख्', 'ग्', 'घ्', 'ङ्', first_r, second_r]\n",
    "\n",
    "for i in others:\n",
    "    print (i, 'स',  i+'ष' , '1.7.2', sandhi_name['1.7.2'])"
   ]
  },
  {
   "cell_type": "code",
   "execution_count": null,
   "id": "45c191f0",
   "metadata": {},
   "outputs": [],
   "source": []
  },
  {
   "cell_type": "code",
   "execution_count": 27,
   "id": "ee068e0c",
   "metadata": {},
   "outputs": [],
   "source": [
    "sandhi_name['1.7.3'] = 'षत्व'\n",
    "panini_sutra['1.7.3'] = 'नुम्विसर्जनीयशर्यवायेऽपि'\n",
    "\n",
    "first = ['क', 'ख', 'ग', 'घ', 'ङ', first_e, second_e, first_u, second_u]\n",
    "second = ['न्', 'श्', 'ष्', 'स्', addm, addh]\n",
    "\n",
    "for i in first:\n",
    "    for i2 in second:\n",
    "        print (i+i2, 'स',  i+i2+'ष' , '1.7.3', sandhi_name['1.7.3'])"
   ]
  },
  {
   "cell_type": "code",
   "execution_count": 28,
   "id": "a7c6cd17",
   "metadata": {},
   "outputs": [],
   "source": [
    "sandhi_name['1.7.4'] = 'षत्व'\n",
    "panini_sutra['1.7.4'] = 'उपसर्गात्सुनोतिसुवतिस्यति स्वञ्जाम्'\n",
    "\n",
    "first = ['वि', 'नि', 'अधि', 'अपि', 'अति', 'अभि', 'प्रति', 'परि', 'अनु', 'सु']\n",
    "link2 = {'त':'ट','थ':'ठ','द':'ड','ध':'ढ','न':'ण'}    \n",
    "        \n",
    "for i in first:\n",
    "    print (i, 'स',  i+'ष' , '1.7.4', sandhi_name['1.7.4'])\n",
    "    for i2 in link2:\n",
    "        print (i, 'स'+halant+i2,  i+'ष'+halant+link2[i2] , '1.7.4', sandhi_name['1.7.4'])"
   ]
  },
  {
   "cell_type": "code",
   "execution_count": 29,
   "id": "dba347f4",
   "metadata": {},
   "outputs": [],
   "source": [
    "sandhi_name['1.7.5'] = 'षत्व'\n",
    "panini_sutra['1.7.5'] = 'सुबिनिदुर्थ्यः सुविसूतिसमाः'\n",
    "\n",
    "first = { 'निर्': 'निः', 'दुर्': 'दुः'}\n",
    "        \n",
    "for i in first:\n",
    "    print (i, 'स',  first[i]+'ष' , '1.7.5', sandhi_name['1.7.5'])"
   ]
  },
  {
   "cell_type": "code",
   "execution_count": 30,
   "id": "1e17bed5",
   "metadata": {},
   "outputs": [],
   "source": [
    "sandhi_name['1.7.6'] = 'षत्व'\n",
    "panini_sutra['1.7.6'] = 'स्फुरतिस्फुलत्योर्निनिविभ्यः'\n",
    "\n",
    "first = ['निस्', 'नि', 'वि']\n",
    "second = {'स्फुर': 'ष्फुर', 'स्फुल': 'ष्फुल'}\n",
    "\n",
    "for x in first:\n",
    "    for y in second:\n",
    "        print (x, y, x+second[y], '1.7.6', sandhi_name['1.7.6'])\n",
    "        print (x, y, x+y, '1.7.6', sandhi_name['1.7.6'])        "
   ]
  },
  {
   "cell_type": "code",
   "execution_count": 31,
   "id": "194c82d3",
   "metadata": {},
   "outputs": [],
   "source": [
    "sandhi_name['1.7.7'] = 'षत्व'\n",
    "panini_sutra['1.7.7'] = 'निनदीभ्यां स्नातेः कौशले'\n",
    "\n",
    "print ('नि', 'स्न',  'निष्ण',  '1.7.7', sandhi_name['1.7.7'])\n",
    "print ('नदी', 'स्न',  'नदीष्ण',  '1.7.7', sandhi_name['1.7.7'])\n"
   ]
  },
  {
   "cell_type": "code",
   "execution_count": 32,
   "id": "8fd9aa0e",
   "metadata": {},
   "outputs": [],
   "source": [
    "sandhi_name['1.7.8'] = 'षत्व'\n",
    "panini_sutra['1.7.8'] = 'मातृपितृभ्यां स्वसा'\n",
    "\n",
    "print ('मातृ', 'स्व', 'मातृष्व', '1.7.8', sandhi_name['1.7.8'])\n",
    "print ('पितृ', 'स्व', 'पितृष्व', '1.7.8', sandhi_name['1.7.8'])\n"
   ]
  },
  {
   "cell_type": "code",
   "execution_count": 33,
   "id": "f0436a39",
   "metadata": {},
   "outputs": [],
   "source": [
    "sandhi_name['1.7.9'] = 'षत्व'\n",
    "panini_sutra['1.7.9'] = 'गवियुधिभ्यां स्थिरः'\n",
    "\n",
    "print ('गवि', 'स्थिरः', 'गविष्ठिरः', '1.7.9', sandhi_name['1.7.9'])\n",
    "print ('युधि', 'स्थिरः', 'युधिष्ठिरः', '1.7.9', sandhi_name['1.7.9'])"
   ]
  },
  {
   "cell_type": "code",
   "execution_count": null,
   "id": "7641ab70",
   "metadata": {},
   "outputs": [],
   "source": []
  },
  {
   "cell_type": "code",
   "execution_count": 34,
   "id": "5bf5ec2e",
   "metadata": {},
   "outputs": [],
   "source": [
    "sandhi_name['1.8.1'] = 'वर्णमेलन'\n",
    "panini_sutra['1.8.1'] = 'sutra_unknown'\n",
    "\n",
    "for x in half_to_full:\n",
    "    for k in swar_link:\n",
    "        if k not in ['अ']:\n",
    "            print (x, k,  half_to_full[x]+swar_link[k], '1.8.1', sandhi_name['1.8.1'])\n",
    "        else:\n",
    "            print (x, k,  half_to_full[x], '1.8.1', sandhi_name['1.8.1'])"
   ]
  },
  {
   "cell_type": "code",
   "execution_count": null,
   "id": "4f395921",
   "metadata": {},
   "outputs": [],
   "source": []
  },
  {
   "cell_type": "code",
   "execution_count": 35,
   "id": "9cb0a0b6",
   "metadata": {},
   "outputs": [],
   "source": [
    "## व्यंजन (हल् सन्धि)"
   ]
  },
  {
   "cell_type": "code",
   "execution_count": 36,
   "id": "4a492167",
   "metadata": {},
   "outputs": [],
   "source": [
    "sandhi_name['2.1.1'] = 'श्चुत्व'\n",
    "panini_sutra['2.1.1'] = 'श्तोश्चुनाश्चु'\n",
    "# स् अथवा त वर्ग (त, थ, द, ध, न) के बाद या पहले श् अथवा च वर्ग (च, छ, ज, झ, अ) हो तो स् को श् \n",
    "# त वर्ग  क्रमशः च वर्गीय अक्षर\n",
    "\n",
    "link1 = {'स्':'श्', 'त्': 'च्','थ्':'छ्','द्':'ज्','ध्':'झ्','न्':'ञ्'}\n",
    "\n",
    "for i, t in link1.items():\n",
    "    for k, v in link1.items():\n",
    "        print (i, v.replace(halant, ''),   t+v.replace(halant, ''), '2.1.1', sandhi_name['2.1.1'] )\n",
    "        print (t, k.replace(halant, ''), t+v.replace(halant, ''), '2.1.1', sandhi_name['2.1.1'] )"
   ]
  },
  {
   "cell_type": "code",
   "execution_count": 37,
   "id": "d731a2b1",
   "metadata": {},
   "outputs": [],
   "source": [
    "sandhi_name['2.2.1'] = 'ष्टुत्व'\n",
    "panini_sutra['2.2.1'] = 'ष्ट्र नाष्टुः'\n",
    "# स् अथवा त वर्ग (त, थ, द, ध, न) के बाद या पहले ष् अथवा ट वर्ग (ट, ठ, ड, ण) हो तो स्  का  ष् \n",
    "# त वर्ग क्रमशः ट वर्गीय अक्षर\n",
    "\n",
    "link2 = {'स्':'ष्', 'त्':'ट्','थ्':'ठ्','द्':'ड्','ध्':'ढ्','न्':'ण्'}\n",
    "\n",
    "for i, t in link2.items():\n",
    "    for k, v in link2.items():\n",
    "        print (i, v.replace(halant, ''),   t+v.replace(halant, ''), '2.2.1', sandhi_name['2.2.1'] )\n",
    "        print (t, k.replace(halant, ''), t+v.replace(halant, ''), '2.2.1', sandhi_name['2.2.1'] )"
   ]
  },
  {
   "cell_type": "code",
   "execution_count": 38,
   "id": "2f903a1d",
   "metadata": {},
   "outputs": [],
   "source": [
    "sandhi_name['2.3.1'] = 'जश्त्व'\n",
    "panini_sutra['2.3.1'] = 'झलां जशोऽन्ते'\n",
    "\n",
    "# प्रथम भाग-यदि वर्गों के पथम अक्षर (क, च, ट, त, प) के बाद घाव य, र, ल, व्, ह्) को छोड़कर कोई भी स्वर या व्यंजन वर्ण आता है तो वह \n",
    "# अपने वर्ग का तीसरा अक्षर (ग. ज. ड, द, ब) हो जाता हो\n",
    "\n",
    "# swar\n",
    "first = {'क्': 'ग', 'च्': 'ज', 'ट्': 'ड', 'त्': 'द', 'प्': 'ब', 'क': 'ग', 'च': 'ज', 'ट': 'ड', 'त': 'द', 'प': 'ब'}\n",
    "   \n",
    "\n",
    "for x in first:\n",
    "    for y in swar_link:\n",
    "        print (x, y, first[x]+swar_link[y], '2.3.1', sandhi_name['2.3.1'] )"
   ]
  },
  {
   "cell_type": "code",
   "execution_count": 39,
   "id": "f0aa017f",
   "metadata": {},
   "outputs": [],
   "source": [
    "# vyanjan\n",
    "sandhi_name['2.4.1'] = 'श्चुत्व'\n",
    "panini_sutra['2.4.1'] = 'झलां जशोऽन्ते'\n",
    "\n",
    "first = {'क्': 'ग्', 'ख्': 'ग्', 'ग्': 'ग्', 'घ्': 'ग्', 'च्': 'ज्', 'छ्': 'ज्', 'ज्': 'ज्', 'झ्': 'ज्', \n",
    "         'ट्': 'ड्', 'ठ्': 'ड्', 'ड्': 'ड्', 'ढ्': 'ड्', 'त्': 'द्', 'थ्': 'द्', 'द्': 'द्', 'ध्': 'द्', \n",
    "         'प्': 'ब्', 'फ्': 'ब्', 'ब्': 'ब्', 'भ्': 'ब्', \n",
    "         'श्': 'ष्', 'ष्': 'ष्', 'स्': 'ष्', 'ह्': 'ष्'}\n",
    "\n",
    "for x in first:\n",
    "    for y in full:\n",
    "        print (x, y, first[x]+y, '2.4.1', sandhi_name['2.4.1'] )"
   ]
  },
  {
   "cell_type": "code",
   "execution_count": 40,
   "id": "0d052d66",
   "metadata": {},
   "outputs": [],
   "source": [
    "sandhi_name['2.4.2'] = 'श्चुत्व'\n",
    "panini_sutra['2.4.2'] = 'झलां जशोऽन्ते'\n",
    "# द्वितीय भाग-यदि पद के मध्य में किसी भी वर्ग के चौथे (घ, झ्, ढ, धू, भ) व्यंजन वर्ण के ठीक बाद किसी वर्ग का चौथा वर्ण आता है तो वह पूर्व वाला चौथा व्यंजन वर्ण \n",
    "# अपने ही वर्ग का तीसरा व्यंजन वर्ण हो जाता है।\n",
    "\n",
    "# swar\n",
    "first = {'घ्': 'ग', 'झ्': 'ज', 'ढ्': 'ड', 'ध्': 'द', 'भ्': 'ब'}\n",
    "\n",
    "for x in first:\n",
    "    for y in swar_link:\n",
    "        print (x, y, first[x]+swar_link[y], '2.4.2', sandhi_name['2.4.2'] )"
   ]
  },
  {
   "cell_type": "code",
   "execution_count": 41,
   "id": "17619973",
   "metadata": {},
   "outputs": [],
   "source": [
    "sandhi_name['2.4.3'] = 'श्चुत्व'\n",
    "panini_sutra['2.4.3'] = 'झलां जशोऽन्ते'\n",
    "# vyanjan\n",
    "\n",
    "first = {'घ्': 'ग', 'झ्': 'ज', 'ढ्': 'ड', 'ध्': 'द', 'भ्': 'ब'}\n",
    "exclude = ['य', 'र', 'ल', 'व', 'ह']\n",
    "\n",
    "for x in first:\n",
    "    for y in full:\n",
    "        if y not in exclude:\n",
    "            print (x, y, first[x]+halant+y, '2.4.3', sandhi_name['2.4.3'] )"
   ]
  },
  {
   "cell_type": "code",
   "execution_count": 42,
   "id": "a32f757a",
   "metadata": {},
   "outputs": [],
   "source": [
    "sandhi_name['2.5.1'] = 'चर्त्व'\n",
    "panini_sutra['2.5.1'] = 'खरि च'\n",
    "# किसी भी वर्ग के तृतीय अथवा चतुर्थ अक्षर के पश्चात् किसी भी वर्ग का प्रथम अथवा द्वितीय अक्षर अथवा श, ष, स में कोई अक्षर आये \n",
    "# तो पहले वाले के स्थानपर अपने वर्ग का प्रथम हो जाता है\n",
    "\n",
    "first = {'ग्':'क','घ्':'क','ज्':'च','झ्':'च','ड्':'ट','ढ्':'ट','द्':'त','ध्':'त','ब्':'प','भ्':'प'}\n",
    "second = ['क','ख','च','छ','ट','ठ','त','थ','प','फ','श','ष','स']\n",
    "for i in first:\n",
    "    for x in second:\n",
    "        print (i, x, first[i]+halant+x, '2.5.1', sandhi_name['2.5.1'] )"
   ]
  },
  {
   "cell_type": "code",
   "execution_count": 43,
   "id": "7f56ef79",
   "metadata": {},
   "outputs": [],
   "source": [
    "sandhi_name['2.6.1'] = 'अनुसार'\n",
    "panini_sutra['2.6.1'] = 'मोऽनुस्वारा'\n",
    "# अन्त में 'म्‘ वर्ण तथा उसके बाद कोई व्यंजन वर्ण आये तो म् का अनुसार (•) हो जाता है\n",
    "\n",
    "for i in full:\n",
    "    print ('म्', i, addm+i, '2.6.1', sandhi_name['2.6.1'] )"
   ]
  },
  {
   "cell_type": "code",
   "execution_count": 44,
   "id": "e1b7913c",
   "metadata": {},
   "outputs": [],
   "source": [
    "sandhi_name['2.7.1'] = 'अनुनासिक'\n",
    "panini_sutra['2.7.1'] = 'यरोऽनुनासिकेऽनुनासिको'\n",
    "# अन्त में किसी भी वर्ण के बाद कोई अनुनासिक (ङ, ञ, ण, न, म) आये पहले वाले वर्ण के \n",
    "# स्थान पर उसी वर्ग का पाँचवाँ वर्ण हो जाता है\n",
    "\n",
    "full_dict = {'क्':'ङ्', 'ख्': 'ङ्', 'ग्': 'ङ्', 'घ्': 'ङ्', 'ङ्':'ङ्',\n",
    "'च्': 'ञ्', 'छ्': 'ञ्', 'ज्': 'ञ्', 'झ्': 'ञ्', 'ञ्': 'ञ्',\n",
    "'ट्':  'ण्', 'ठ्': 'ण्', 'ड्': 'ण्', 'ढ्': 'ण्' , 'ण्': 'ण्',\n",
    "'त्': 'न्', 'थ्': 'न्', 'द्': 'न्', 'ध्': 'न्', 'न्': 'न्',\n",
    "'प्': 'म्', 'फ्': 'म्', 'ब्': 'म्', 'भ्': 'म्', 'म्': 'म्'}\n",
    "\n",
    "anunasik = ['ङ', 'ञ', 'ण', 'न', 'म']\n",
    "for x in full_dict:\n",
    "    for y in anunasik:\n",
    "        print (x, y, full_dict[x]+y, '2.7.1', sandhi_name['2.7.1'] )"
   ]
  },
  {
   "cell_type": "code",
   "execution_count": 45,
   "id": "53ce281b",
   "metadata": {},
   "outputs": [],
   "source": [
    "sandhi_name['2.8.1'] = 'परसवर्ण'\n",
    "panini_sutra['2.8.1'] = 'अनुस्वारस्य ययि परसवर्णः वा पदान्तस्य'\n",
    "\n",
    "full_dict = {'क':'ङ्', 'ख': 'ङ्', 'ग': 'ङ्', 'घ': 'ङ्', 'ङ':'ङ्',\n",
    "'च': 'ञ्', 'छ': 'ञ्', 'ज': 'ञ्', 'झ': 'ञ्', 'ञ': 'ञ्',\n",
    "'ट':  'ण्', 'ठ': 'ण्', 'ड': 'ण्', 'ढ': 'ण्' , 'ण': 'ण्',\n",
    "'त': 'न्', 'थ': 'न्', 'द': 'न्', 'ध': 'न्', 'न': 'न्',\n",
    "'प': 'म्', 'फ': 'म्', 'ब': 'म्', 'भ': 'म्', 'म': 'म्'}\n",
    "\n",
    "\n",
    "for i in full_dict:\n",
    "        print (addm, i, full_dict[i]+i, '2.8.1', sandhi_name['2.8.1'] )"
   ]
  },
  {
   "cell_type": "code",
   "execution_count": 46,
   "id": "bb7119aa",
   "metadata": {},
   "outputs": [],
   "source": [
    "sandhi_name['2.9.1'] = 'नश्त्व'\n",
    "panini_sutra['2.9.1'] = 'नश्छव्य प्रशान'\n",
    "# नियम  सन्धि-यदि पद के अन्त में न् हो और उसके बाद च् छ् ट् ठ् त् थ् हों तो न के स्थान पर अनुस्वार (.) \n",
    "# और च् छ त् थ् ट ठ के स्थान पर श्च् श्छ्, स्त, स्थ्, ष्ट् ष्ठ हो जाते हैं\n",
    "\n",
    "nlinks = {'च':'श्च', 'छ':'श्छ', 'ट':'ष्ट', 'ठ':'ष्ठ', 'त':'स्त', 'थ':'स्थ'}\n",
    "\n",
    "for key, value in nlinks.items():\n",
    "    print ('न्', key, addm+value, '2.9.1', sandhi_name['2.9.1'] )"
   ]
  },
  {
   "cell_type": "code",
   "execution_count": 47,
   "id": "fdbe3d4e",
   "metadata": {},
   "outputs": [],
   "source": [
    "sandhi_name['2.10.1'] = 'ङमुडागम'\n",
    "panini_sutra['2.10.1'] = 'ङमो ह्रस्वादचि ङमुण्नित्यम्'\n",
    "\n",
    "# ह्रस्वस्वरात् परं विद्यमानानां ङ्, ण्, न् एतेषां वर्णानां स्वरे परे द्वित्यं भवति\n",
    "\n",
    "double = {'ङ':'ङ्', 'ण':'ण्', 'न':'न्'}\n",
    "\n",
    "for x in double:\n",
    "    for key, value in swar_link.items():\n",
    "        print (double[x], key, double[x]+x+value, '2.10.1', sandhi_name['2.10.1'] )      "
   ]
  },
  {
   "cell_type": "code",
   "execution_count": 48,
   "id": "649752cb",
   "metadata": {},
   "outputs": [],
   "source": [
    "sandhi_name['2.11.1'] = 'छत्व'\n",
    "panini_sutra['2.11.1'] = 'शश्छोऽटि'\n",
    "\n",
    "link1 = {'स्':'श्', 'त्': 'च्','थ्':'छ्','द्':'ज्','ध्':'झ्','न्':'ञ्'}\n",
    "exclude = ['ङ्', 'ञ्', 'ण्', 'न्', 'म्', 'य्', 'श्', 'ष्', 'स्']\n",
    "second = ['', add, first_e, second_e, first_u, second_u, adde, addee, addo, addoo, addm,'य', 'र', 'ल', 'व', 'म', 'न' ]\n",
    "\n",
    "for x in half:\n",
    "    if x not in exclude:\n",
    "        for y in second:\n",
    "            print (x, 'श'+y, link1.get(x, x)+'छ'+y, '2.11.1', sandhi_name['2.11.1'] )"
   ]
  },
  {
   "cell_type": "code",
   "execution_count": 49,
   "id": "56b1d055",
   "metadata": {},
   "outputs": [],
   "source": [
    "sandhi_name['2.12.1'] = 'तुगागम'\n",
    "sandhi_name['2.12.2'] = 'तुगागम'\n",
    "sandhi_name['2.12.3'] = 'तुगागम'\n",
    "sandhi_name['2.12.4'] = 'तुगागम'\n",
    "\n",
    "panini_sutra['2.12.1'] = 'छे च'\n",
    "panini_sutra['2.12.2'] = 'छे च'\n",
    "panini_sutra['2.12.3'] = 'छे च'\n",
    "panini_sutra['2.12.4'] = 'छे च'\n",
    "\n",
    "first_swar = [first_e, first_u, adde, addo]\n",
    "second_swar =  [add,second_e, second_u, addee, addoo]\n",
    "\n",
    "for x in full+swar:\n",
    "    print (x, 'छ' , x+'च्छ', '2.12.1', sandhi_name['2.12.1'] )\n",
    "    for y in first_swar:\n",
    "        print (x+y, 'छ' , x+y+'च्छ', '2.12.2', sandhi_name['2.12.2'] )\n",
    "    for y in second_swar:\n",
    "        print (x+y, 'छ' , x+y+'च्छ', '2.12.3', sandhi_name['2.12.3'] )\n",
    "        print (x+y, 'छ' , x+y+'छ', '2.12.4', sandhi_name['2.12.4'] )"
   ]
  },
  {
   "cell_type": "code",
   "execution_count": 50,
   "id": "2d7df291",
   "metadata": {},
   "outputs": [],
   "source": [
    "sandhi_name['2.12.5'] = 'तुगागम'\n",
    "panini_sutra['2.12.5'] = 'शि तुक्'\n",
    "print ('न्', 'श', 'ञ्छ', '2.12.5', sandhi_name['2.12.5'] )"
   ]
  },
  {
   "cell_type": "code",
   "execution_count": 51,
   "id": "108dd0e3",
   "metadata": {},
   "outputs": [],
   "source": [
    "sandhi_name['2.13.1'] = 'पूर्वसवर्ण'\n",
    "panini_sutra['2.13.1'] = 'झयो होऽन्यतरस्याम्'\n",
    "first = {'क':'घ', 'ख':'घ', 'ग':'घ', 'घ':'घ', 'च':'झ', 'छ':'झ', 'ज':'झ', 'झ':'झ',  'ट':'ढ', 'ठ':'ढ', 'ड':'ढ', 'ढ':'ढ',  \n",
    "         'त':'ध', 'थ':'ध',  'द':'ध', 'ध':'ध',  'प':'भ', 'फ':'भ',  'ब':'भ', 'भ':'भ'}\n",
    "\n",
    "for x in first:\n",
    "    if x == 'त':\n",
    "        print (x, 'ह', 'द'+halant+first[x], '2.13.1', sandhi_name['2.13.1'] )\n",
    "    else:\n",
    "        print (x, 'ह', x+halant+first[x], '2.13.1', sandhi_name['2.13.1'] )        "
   ]
  },
  {
   "cell_type": "code",
   "execution_count": 52,
   "id": "469df694",
   "metadata": {},
   "outputs": [],
   "source": [
    "sandhi_name['2.14.1'] = 'लत्व'\n",
    "panini_sutra['2.14.1'] = 'तोर्लि'\n",
    "\n",
    "first = ['त', 'थ', 'द', 'ध', 'न','त्', 'थ्', 'द्', 'ध्', 'न्']\n",
    "\n",
    "for x in first:\n",
    "    if x in ['न', 'न्']:\n",
    "        print (x, 'ल', 'ँल्ल', '2.14.1', sandhi_name['2.14.1'] )\n",
    "    else:\n",
    "        print (x, 'ल', 'ल्ल', '2.14.1', sandhi_name['2.14.1'] )"
   ]
  },
  {
   "cell_type": "code",
   "execution_count": 53,
   "id": "18b54d1e",
   "metadata": {},
   "outputs": [],
   "source": [
    "sandhi_name['2.15.1'] = 'णत्व'\n",
    "panini_sutra['2.15.1'] = 'रषाभ्यां नो णः समानपदे'\n",
    "# र, ष् अथवा ‘ऋ’ के बाद ‘न्’ रहे तो उस (न्) का ‘ण’\n",
    "# चतुर्णाम्, पुष्णाति, वृक्षाणाम्। कृष्ण, विष्णु, स्वर्ण, वर्ण \n",
    "\n",
    "first = ['र्','ष्','ऋ']\n",
    "for x in first:\n",
    "    print (x, 'न', x+'ण', '2.15.1', sandhi_name['2.15.1'])"
   ]
  },
  {
   "cell_type": "code",
   "execution_count": 54,
   "id": "52d0a71f",
   "metadata": {},
   "outputs": [],
   "source": [
    "sandhi_name['2.15.2'] = 'णत्व'\n",
    "panini_sutra['2.15.2'] = 'अट्कुप्वानुम्व्यवायेऽपि'\n",
    "# अर्थात् ‘र’ और ‘ष’ के बाद किन्तु ‘न्’ से पहले अर्थात् दोनो के बीच अट् (अ, इ, उ, ऋ, लु, ए, ओ, ऐ औ, ह, य, व, र) वर्ण, \n",
    "# कु (क्, ख, ग, घ, ङ्), पु (प, फ, ब, भ, म्), आङ् तथा नुम् में से किसी वर्ण के रहने पर\n",
    "\n",
    "first = ['र','ष']\n",
    "for x in first:\n",
    "    for a, b in swar_link.items():\n",
    "        for a2, b2 in swar_link.items():\n",
    "            print (x+b, 'न'+b2, x+b+'ण'+b2, '2.15.2', sandhi_name['2.15.2'] ) "
   ]
  },
  {
   "cell_type": "code",
   "execution_count": 55,
   "id": "158133de",
   "metadata": {},
   "outputs": [],
   "source": [
    "sandhi_name['2.15.3'] = 'णत्व'\n",
    "panini_sutra['2.15.3'] = 'अट्कुप्वानुम्व्यवायेऽपि'\n",
    "# अर्थात् ‘र’ और ‘ष’ के बाद किन्तु ‘न्’ से पहले अर्थात् दोनो के बीच अट् (अ, इ, उ, ऋ, लु, ए, ओ, ऐ औ, ह, य, व, र) वर्ण, \n",
    "# कु (क्, ख, ग, घ, ङ्), पु (प, फ, ब, भ, म्), आङ् तथा नुम् में से किसी वर्ण के रहने पर\n",
    "\n",
    "first = ['र','ष','ऋ']\n",
    "second = ['ह', 'य', 'व', 'र', 'क', 'ख', 'ग', 'घ', 'ङ', 'प', 'फ', 'ब', 'भ', 'म']\n",
    "\n",
    "for x in first:\n",
    "    for a, b in swar_link.items():\n",
    "        for x2 in second:\n",
    "            for a2, b2 in swar_link.items():\n",
    "                for a3, b3 in swar_link.items():\n",
    "                    print (x+b+x2+b2, 'न'+b3, x+b+x2+b2+'ण'+b3, '2.15.3', sandhi_name['2.15.3'] )"
   ]
  },
  {
   "cell_type": "code",
   "execution_count": 56,
   "id": "33d25d7c",
   "metadata": {},
   "outputs": [],
   "source": [
    "sandhi_name['2.15.4'] = 'णत्व'\n",
    "panini_sutra['2.15.4'] = 'अट्कुप्वानुम्व्यवायेऽपि'\n",
    "# अर्थात् ‘र’ और ‘ष’ के बाद किन्तु ‘न्’ से पहले अर्थात् दोनो के बीच अट् (अ, इ, उ, ऋ, लु, ए, ओ, ऐ औ, ह, य, व, र) वर्ण, \n",
    "# कु (क्, ख, ग, घ, ङ्), पु (प, फ, ब, भ, म्), आङ् तथा नुम् में से किसी वर्ण के रहने पर\n",
    "\n",
    "second = ['ह', 'य', 'व', 'र', 'क', 'ख', 'ग', 'घ', 'ङ', 'प', 'फ', 'ब', 'भ', 'म']\n",
    "\n",
    "for x2 in second:\n",
    "    for a2, b2 in swar_link.items():\n",
    "        for a3, b3 in swar_link.items():\n",
    "            print ('ऋ'+x2+b2, 'न'+b3, 'ऋ'+x2+b2+'ण'+b3, '2.15.4', sandhi_name['2.15.4'] )"
   ]
  },
  {
   "cell_type": "code",
   "execution_count": null,
   "id": "effd6e65",
   "metadata": {},
   "outputs": [],
   "source": []
  },
  {
   "cell_type": "code",
   "execution_count": 57,
   "id": "a8b0e877",
   "metadata": {},
   "outputs": [],
   "source": [
    "## 3 विसर्ग सन्धि "
   ]
  },
  {
   "cell_type": "code",
   "execution_count": 58,
   "id": "42c61806",
   "metadata": {},
   "outputs": [],
   "source": [
    "sandhi_name['3.1.1'] = 'सत्व'\n",
    "panini_sutra['3.1.1'] = 'विसर्जनीयस्य सः'\n",
    "\n",
    "for x in karkash:\n",
    "    if x not in ['स', 'श', 'ष', 'च', 'छ', 'ट', 'ठ']:\n",
    "        print (addh, x, 'स्'+x, ' 3.1.1', sandhi_name['3.1.1'] )\n",
    "        print (':', x, 'स्'+x, ' 3.1.1', sandhi_name['3.1.1'] )    "
   ]
  },
  {
   "cell_type": "code",
   "execution_count": 59,
   "id": "8eb0b5f3",
   "metadata": {},
   "outputs": [],
   "source": [
    "sandhi_name['3.1.2'] = 'षत्व'\n",
    "panini_sutra['3.1.2'] = 'विसर्जनीयस्य सः'\n",
    "\n",
    "print (first_e+addh, 'क', first_e+'ष्क', '3.1.2', sandhi_name['3.1.2'] )\n",
    "print (first_u+addh, 'क', first_u+'ष्क', '3.1.2', sandhi_name['3.1.2'] )\n",
    "print (first_e+addh, 'ख', first_e+'ष्ख', '3.1.2', sandhi_name['3.1.2'] )\n",
    "print (first_u+addh, 'ख', first_u+'ष्ख', '3.1.2', sandhi_name['3.1.2'] )\n",
    "print (first_e+addh, 'प', first_e+'ष्प', '3.1.2', sandhi_name['3.1.2'] )\n",
    "print (first_u+addh, 'प', first_u+'ष्प', '3.1.2', sandhi_name['3.1.2'] )\n",
    "print (first_e+addh, 'फ', first_e+'ष्फ', '3.1.2', sandhi_name['3.1.2'] )\n",
    "print (first_u+addh, 'फ', first_u+'ष्फ', '3.1.2', sandhi_name['3.1.2'] )\n",
    "\n",
    "print ('ः ट ष्ट', '3.1.2', sandhi_name['3.1.2'] )\n",
    "print ('ः ठ ष्ठ', '3.1.2', sandhi_name['3.1.2'] )\n",
    "\n",
    "print ('ः ष ःष', '3.1.2', sandhi_name['3.1.2'] )\n",
    "print ('ः ष ष्ष', '3.1.2', sandhi_name['3.1.2'] )\n",
    "\n",
    "print ('ः श ःश', '3.1.2', sandhi_name['3.1.2'] )\n",
    "print ('ः श श्श', '3.1.2', sandhi_name['3.1.2'] )\n",
    "\n",
    "print ('ः स ःस', '3.1.2', sandhi_name['3.1.2'] )\n",
    "print ('ः स स्स', '3.1.2', sandhi_name['3.1.2'] )\n",
    "\n",
    "print ('ः च श्च', '3.1.2', sandhi_name['3.1.2'] )\n",
    "print ('ः छ श्छ', '3.1.2', sandhi_name['3.1.2'] )\n",
    "\n",
    "\n",
    "# change to colon:\n",
    "\n",
    "print (': ट ष्ट', '3.1.2', sandhi_name['3.1.2'] )\n",
    "print (': ठ ष्ठ', '3.1.2', sandhi_name['3.1.2'] )\n",
    "\n",
    "print (': ष ःष', '3.1.2', sandhi_name['3.1.2'] )\n",
    "print (': ष ष्ष', '3.1.2', sandhi_name['3.1.2'] )\n",
    "\n",
    "print (': श ःश', '3.1.2', sandhi_name['3.1.2'] )\n",
    "print (': श श्श', '3.1.2', sandhi_name['3.1.2'] )\n",
    "\n",
    "print (': स ःस', '3.1.2', sandhi_name['3.1.2'] )\n",
    "print (': स स्स', '3.1.2', sandhi_name['3.1.2'] )\n",
    "\n",
    "print (': च श्च', '3.1.2', sandhi_name['3.1.2'] )\n",
    "print (': छ श्छ', '3.1.2', sandhi_name['3.1.2'] )"
   ]
  },
  {
   "cell_type": "code",
   "execution_count": 60,
   "id": "efe7c53d",
   "metadata": {},
   "outputs": [],
   "source": [
    "sandhi_name['3.2.2'] = 'रुत्व'\n",
    "panini_sutra['3.2.2'] = 'इचोऽशि विसर्गस्य रेफः'\n",
    "\n",
    "for i in full:\n",
    "    for y in mrudu:\n",
    "        for a, b in swar_link.items():\n",
    "            if a not in ['अ', 'आ']:\n",
    "                print (i+b+addh, y, i+b+'र्'+y,  ' 3.2.2', sandhi_name['3.2.2'] )"
   ]
  },
  {
   "cell_type": "code",
   "execution_count": 61,
   "id": "ea1534b4",
   "metadata": {},
   "outputs": [],
   "source": [
    "sandhi_name['3.2.2'] = 'रुत्व'\n",
    "panini_sutra['3.2.2'] = 'इचोऽशि विसर्गस्य रेफः'\n",
    "\n",
    "for i in full:\n",
    "    for x,y in swar_link.items():\n",
    "        for a, b in swar_link.items():\n",
    "            print (i+y+addh, a, i+y+'र'+b,  ' 3.2.2', sandhi_name['3.2.2'] )"
   ]
  },
  {
   "cell_type": "code",
   "execution_count": 62,
   "id": "3cbbfeb7",
   "metadata": {},
   "outputs": [],
   "source": [
    "sandhi_name['3.3.1'] = 'उत्व'\n",
    "panini_sutra['3.3.1'] = 'अतोरोरप्लुतादप्लुते'\n",
    "for x in full:\n",
    "    print (x+addh, 'अ', x+addo+avagraha, ' 3.3.1', sandhi_name['3.3.1'] )"
   ]
  },
  {
   "cell_type": "code",
   "execution_count": 63,
   "id": "90b671ba",
   "metadata": {},
   "outputs": [],
   "source": [
    "sandhi_name['3.3.2'] = 'उत्व'\n",
    "panini_sutra['3.3.2'] = 'हशि च'\n",
    "for x in full:\n",
    "    for y in mrudu:\n",
    "        print (x+addh, y, x+addo+y, ' 3.3.2', sandhi_name['3.3.2'] )"
   ]
  },
  {
   "cell_type": "code",
   "execution_count": 64,
   "id": "37a3af31",
   "metadata": {},
   "outputs": [],
   "source": [
    "sandhi_name['3.4.1'] = 'लोप'\n",
    "panini_sutra['3.4.1'] = '‘आतोऽशि विसर्गस्य लोपः'\n",
    "for y in swar+mrudu:\n",
    "    print (add+addh, y, add+y, ' 3.4.1', sandhi_name['3.4.1'] )"
   ]
  },
  {
   "cell_type": "code",
   "execution_count": 65,
   "id": "f21e9590",
   "metadata": {},
   "outputs": [],
   "source": [
    "sandhi_name['3.4.2'] = 'लोप'\n",
    "panini_sutra['3.4.2'] = 'अतोऽनत्यचि विसर्ग लोपः'\n",
    "for x in full:\n",
    "    for y in swar:\n",
    "        if y != 'अ':\n",
    "            print (x+addh, y, x+y, ' 3.4.2', sandhi_name['3.4.1'] )"
   ]
  },
  {
   "cell_type": "code",
   "execution_count": 66,
   "id": "d01a5b54",
   "metadata": {},
   "outputs": [],
   "source": [
    "sandhi_name['3.4.3'] = 'लोप'\n",
    "panini_sutra['3.4.3'] = 'एतत्तदोः सुलोपोऽकोरनसमासे हलि'\n",
    "\n",
    "vlink = {'सः':'स', 'एषः':'एष'}\n",
    "for x in swar + full:\n",
    "    for key, value in vlink.items():\n",
    "        if x != 'अ':\n",
    "            print (key, x, value+x, ' 3.4.3', sandhi_name['3.4.3'] )"
   ]
  },
  {
   "cell_type": "code",
   "execution_count": 67,
   "id": "8abc8215",
   "metadata": {},
   "outputs": [],
   "source": [
    "sandhi_name['3.4.4'] = 'लोप'\n",
    "panini_sutra['3.4.4'] = 'रो रि'\n",
    "\n",
    "for x in full:\n",
    "    print (x+addh, 'र', x+add+'र', ' 3.4.4', sandhi_name['3.4.4'] )\n",
    "    print (x+add+addh, 'र', x+add+'र', ' 3.4.4', sandhi_name['3.4.4'] )\n",
    "    print (x+first_e+addh, 'र',  x+second_e+'र', ' 3.4.4', sandhi_name['3.4.4'] )\n",
    "    print (x+second_e+addh, 'र',  x+second_e+'र', ' 3.4.4', sandhi_name['3.4.4'] )\n",
    "    print (x+first_u+addh, 'र',  x+second_u+'र', ' 3.4.4', sandhi_name['3.4.4'] )\n",
    "    print (x+second_u+addh, 'र',  x+second_u+'र', ' 3.4.4', sandhi_name['3.4.4'] )\n",
    "    print (x+adde+addh, 'र',  x+addee+'र', ' 3.4.4', sandhi_name['3.4.4'] )\n",
    "    print (x+addee+addh, 'र',  x+addee+'र', ' 3.4.4', sandhi_name['3.4.4'] )\n",
    "    print (x+addo+addh, 'र',  x+addoo+'र', ' 3.4.4', sandhi_name['3.4.4'] )\n",
    "    print (x+addoo+addh, 'र',  x+addoo+'र', ' 3.4.4', sandhi_name['3.4.4'] )"
   ]
  },
  {
   "cell_type": "code",
   "execution_count": 68,
   "id": "77ab87b2",
   "metadata": {},
   "outputs": [],
   "source": [
    "sandhi_name['3.5.1'] = 'visarg'\n",
    "panini_sutra['3.5.1'] = 'visarg'\n",
    "vlink = {'भोः':'भो', 'भगोः': 'भगो', 'अघोः': 'अघो'}\n",
    "for y in swar+mrudu:\n",
    "    for key, value in vlink.items():\n",
    "        print (key, y, value+y, '3.5.1', sandhi_name['3.5.1'] )"
   ]
  },
  {
   "cell_type": "code",
   "execution_count": 69,
   "id": "6c4bae52",
   "metadata": {},
   "outputs": [],
   "source": [
    "! sort -u sandhi_result_code.txt > sandhi_code_out.txt"
   ]
  },
  {
   "cell_type": "code",
   "execution_count": 70,
   "id": "536d78aa",
   "metadata": {},
   "outputs": [],
   "source": [
    "#!grep 'वा: इ' sandhi_code_out.txt"
   ]
  },
  {
   "cell_type": "code",
   "execution_count": null,
   "id": "aa17824b",
   "metadata": {},
   "outputs": [],
   "source": []
  },
  {
   "cell_type": "code",
   "execution_count": 71,
   "id": "3941f8ff",
   "metadata": {},
   "outputs": [],
   "source": [
    "import pandas as pd\n",
    "df = pd.read_csv('sandhi_code_out.txt', delim_whitespace=True, low_memory=True, header=None)"
   ]
  },
  {
   "cell_type": "code",
   "execution_count": 72,
   "id": "0c16238e",
   "metadata": {},
   "outputs": [],
   "source": [
    "df.columns = ['a', 'b','c', 'd', 'e']"
   ]
  },
  {
   "cell_type": "code",
   "execution_count": 73,
   "id": "05788e5c",
   "metadata": {},
   "outputs": [],
   "source": [
    "def sandhi_splitter(mystring):\n",
    "    mylist = list()\n",
    "    mydic = dict()\n",
    "    for x in [5,4,3,2,1]:\n",
    "        for i in df[df['c'].str.len() == x].c:\n",
    "            if i in mystring:\n",
    "                repc = df[df['c'] == i]['a'] + ' ' + df[df['c'] == i]['b']\n",
    "                repc2 = ' '.join(repc.tolist())\n",
    "                mylist.append(mystring.replace(i, repc2))\n",
    "    return set(mylist)"
   ]
  },
  {
   "cell_type": "code",
   "execution_count": 74,
   "id": "aac22f8d",
   "metadata": {},
   "outputs": [],
   "source": [
    "def _sandhi_builder(my):\n",
    "    mylist = list()\n",
    "    for i in my.split():\n",
    "        mylist.append(i)\n",
    "        \n",
    "    final = list()\n",
    "    nelist = list()\n",
    "    check = mylist[0] + ' ' + mylist[1]\n",
    "    for i in [8,7,6,5,4,3,2,1]:\n",
    "        for p in [0,1,2,3,4,5,6,7]:\n",
    "            x = mylist[0][-i:]\n",
    "            y = mylist[1][:p]\n",
    "            if len(x) > 0 and len(y) > 0:\n",
    "                try:\n",
    "                    z = df[(df['a'] == x) & (df['b'] == y)]['c']\n",
    "                    if len(z) > 0:\n",
    "                        for myr in z:\n",
    "                            myt = [mylist[0][-i:], mylist[1][:p]]\n",
    "                            final.append(check.replace(' '.join(myt), myr))\n",
    "                except:\n",
    "                    pass\n",
    "    return set(final)"
   ]
  },
  {
   "cell_type": "code",
   "execution_count": 75,
   "id": "9ecf696d",
   "metadata": {},
   "outputs": [],
   "source": [
    "# https://stackoverflow.com/questions/76354521/recursive-function-in-pandas/\n",
    "\n",
    "# कृत्यचः\n",
    "# रकार से युक्त उपसर्ग के बाद कृत् प्रत्यय से बने शब्द में अच् (स्वर) वर्ण के बाद ‘न्’ रहे तो उसके स्थान में ‘ण’\n",
    "\n",
    "r_upsarg = ['प्र', 'परि', 'प्रति', 'दुर्', 'निर्']\n",
    "\n",
    "def sandhi_builder(x):\n",
    "    sandhi_long = x.split()\n",
    "    \n",
    "    for i in r_upsarg:\n",
    "        if sandhi_long[0] == i:\n",
    "            sandhi_long[1] = sandhi_long[1].replace('न', 'ण')\n",
    "    \n",
    "    return_set = set([sandhi_long[0]])  # Initialize with the first word\n",
    "\n",
    "    for lr in range(1, len(sandhi_long)):\n",
    "        tmp_list = []\n",
    "        for eachv in return_set:\n",
    "            return_set2 = _sandhi_builder(eachv + ' ' + sandhi_long[lr])\n",
    "            if return_set2:\n",
    "                tmp_list.extend(return_set2)\n",
    "            else:\n",
    "                tmp_list.append(eachv + sandhi_long[lr])\n",
    "        return_set = set(tmp_list)\n",
    "\n",
    "    return return_set"
   ]
  },
  {
   "cell_type": "code",
   "execution_count": 76,
   "id": "f8cb3172",
   "metadata": {},
   "outputs": [
    {
     "data": {
      "text/plain": [
       "{'पित्रुपदेश'}"
      ]
     },
     "execution_count": 76,
     "metadata": {},
     "output_type": "execute_result"
    }
   ],
   "source": [
    "sandhi_builder('पितृ उपदेश')"
   ]
  },
  {
   "cell_type": "code",
   "execution_count": 77,
   "id": "a52a6f85",
   "metadata": {},
   "outputs": [
    {
     "data": {
      "text/plain": [
       "{'प्रमत्तःशापेन', 'प्रमत्तश्शापेन'}"
      ]
     },
     "execution_count": 77,
     "metadata": {},
     "output_type": "execute_result"
    }
   ],
   "source": [
    "sandhi_builder('प्रमत्तः शापेन')"
   ]
  },
  {
   "cell_type": "code",
   "execution_count": 78,
   "id": "f1694bb9",
   "metadata": {},
   "outputs": [
    {
     "data": {
      "text/plain": [
       "{'कश्चिद्प्रमत्तःशापेनकान्ताविरहगुरुणास्वाधिकारप्रमत्तःशापेनमहिमावर्षभोग्येण',\n",
       " 'कश्चिद्प्रमत्तःशापेनकान्ताविरहगुरुणास्वाधिकारप्रमत्तश्शापेनमहिमावर्षभोग्येण',\n",
       " 'कश्चिद्प्रमत्तश्शापेनकान्ताविरहगुरुणास्वाधिकारप्रमत्तःशापेनमहिमावर्षभोग्येण',\n",
       " 'कश्चिद्प्रमत्तश्शापेनकान्ताविरहगुरुणास्वाधिकारप्रमत्तश्शापेनमहिमावर्षभोग्येण'}"
      ]
     },
     "execution_count": 78,
     "metadata": {},
     "output_type": "execute_result"
    }
   ],
   "source": [
    "sandhi_builder('कश्चित् प्रमत्तः शापेन कान्ता विरह गुरुणा स्वाधिकार प्रमत्तः शापेन महिमा वर्ष भोग्येण')"
   ]
  },
  {
   "cell_type": "code",
   "execution_count": 79,
   "id": "fdf4f03e",
   "metadata": {},
   "outputs": [
    {
     "data": {
      "text/plain": [
       "{'अतिततस्तमुपकारकमाचार्यमालोक्येश्वरभावनयाह'}"
      ]
     },
     "execution_count": 79,
     "metadata": {},
     "output_type": "execute_result"
    }
   ],
   "source": [
    "sandhi_builder(\"अति ततः तम् उपकारकम् आचार्यम् आलोक्य ईश्वर भावनया आह\")"
   ]
  },
  {
   "cell_type": "code",
   "execution_count": 80,
   "id": "ef4fa2af",
   "metadata": {},
   "outputs": [
    {
     "data": {
      "text/plain": [
       "{'विष्फुर', 'विस्फुर'}"
      ]
     },
     "execution_count": 80,
     "metadata": {},
     "output_type": "execute_result"
    }
   ],
   "source": [
    "sandhi_builder('वि स्फुर')"
   ]
  },
  {
   "cell_type": "code",
   "execution_count": null,
   "id": "06778524",
   "metadata": {},
   "outputs": [],
   "source": []
  }
 ],
 "metadata": {
  "kernelspec": {
   "display_name": "Python 3 (ipykernel)",
   "language": "python",
   "name": "python3"
  },
  "language_info": {
   "codemirror_mode": {
    "name": "ipython",
    "version": 3
   },
   "file_extension": ".py",
   "mimetype": "text/x-python",
   "name": "python",
   "nbconvert_exporter": "python",
   "pygments_lexer": "ipython3",
   "version": "3.7.6"
  },
  "vp": {
   "vp_config_version": "1.0.0",
   "vp_menu_width": 273,
   "vp_note_display": false,
   "vp_note_width": 0,
   "vp_position": {
    "width": 278
   },
   "vp_section_display": false,
   "vp_signature": "VisualPython"
  }
 },
 "nbformat": 4,
 "nbformat_minor": 5
}
